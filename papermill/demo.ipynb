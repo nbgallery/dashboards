{
 "cells": [
  {
   "cell_type": "markdown",
   "metadata": {},
   "source": [
    "# Markdown test cell\n",
    "\n",
    " * hello world\n",
    " * *some* **text**"
   ]
  },
  {
   "cell_type": "code",
   "execution_count": null,
   "metadata": {
    "ExecuteTime": {
     "end_time": "2020-10-26T18:39:23.204148Z",
     "start_time": "2020-10-26T18:39:23.190664Z"
    }
   },
   "outputs": [],
   "source": [
    "import ipywidgets as widgets\n",
    "from IPython.display import display, HTML"
   ]
  },
  {
   "cell_type": "code",
   "execution_count": null,
   "metadata": {
    "ExecuteTime": {
     "end_time": "2020-10-26T18:36:57.164765Z",
     "start_time": "2020-10-26T18:36:57.155913Z"
    },
    "tags": [
     "parameters"
    ]
   },
   "outputs": [],
   "source": [
    "# parameters\n",
    "myint = 42\n",
    "myfloat = 3.14\n",
    "mystr = \"hello world\""
   ]
  },
  {
   "cell_type": "code",
   "execution_count": null,
   "metadata": {
    "ExecuteTime": {
     "end_time": "2020-10-26T18:37:28.240196Z",
     "start_time": "2020-10-26T18:37:28.228997Z"
    }
   },
   "outputs": [],
   "source": [
    "print(mystr)\n",
    "print(f\"{myint} * {myfloat} = {myint * myfloat}\")"
   ]
  },
  {
   "cell_type": "code",
   "execution_count": null,
   "metadata": {
    "ExecuteTime": {
     "end_time": "2020-10-26T18:39:32.953210Z",
     "start_time": "2020-10-26T18:39:32.911242Z"
    }
   },
   "outputs": [],
   "source": [
    "display(HTML(f\"<h3>{mystr}</h3>\"))\n",
    "display(HTML(\"<b><i>some text</i></b>\"))"
   ]
  },
  {
   "cell_type": "code",
   "execution_count": null,
   "metadata": {
    "ExecuteTime": {
     "end_time": "2020-10-26T18:41:26.962283Z",
     "start_time": "2020-10-26T18:41:26.831258Z"
    }
   },
   "outputs": [],
   "source": [
    "slider = widgets.IntSlider(min=0, max=10, value=5)\n",
    "button = widgets.Button(description=\"Run\")\n",
    "output = widgets.Output()\n",
    "\n",
    "@output.capture(clear_output=True)\n",
    "def callback(b):\n",
    "    print(slider.value * slider.value)\n",
    "    \n",
    "button.on_click(callback)\n",
    "box = widgets.VBox([slider, button, output])\n",
    "display(box)"
   ]
  },
  {
   "cell_type": "code",
   "execution_count": null,
   "metadata": {},
   "outputs": [],
   "source": []
  }
 ],
 "metadata": {
  "celltoolbar": "Tags",
  "kernelspec": {
   "display_name": "Python 3",
   "language": "python",
   "name": "python3"
  },
  "language_info": {
   "codemirror_mode": {
    "name": "ipython",
    "version": 3
   },
   "file_extension": ".py",
   "mimetype": "text/x-python",
   "name": "python",
   "nbconvert_exporter": "python",
   "pygments_lexer": "ipython3",
   "version": "3.8.5"
  },
  "toc": {
   "base_numbering": 1,
   "nav_menu": {},
   "number_sections": true,
   "sideBar": true,
   "skip_h1_title": false,
   "title_cell": "Table of Contents",
   "title_sidebar": "Contents",
   "toc_cell": false,
   "toc_position": {},
   "toc_section_display": true,
   "toc_window_display": false
  }
 },
 "nbformat": 4,
 "nbformat_minor": 4
}
