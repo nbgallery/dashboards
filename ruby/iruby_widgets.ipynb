{
 "cells": [
  {
   "cell_type": "markdown",
   "metadata": {},
   "source": [
    "# IRuby input widget demo\n",
    "\n",
    "For comparison with ipywidgets.  Run this notebook with Cell -> Run All, and note in particular that the inputs block execution until the user submits the form.\n",
    "\n",
    "Read more about IRuby widgets in [this notebook](https://github.com/SciRuby/sciruby-notebooks/blob/master/IRuby%20Examples/input.ipynb)."
   ]
  },
  {
   "cell_type": "markdown",
   "metadata": {},
   "source": [
    "## Single input"
   ]
  },
  {
   "cell_type": "code",
   "execution_count": null,
   "metadata": {},
   "outputs": [],
   "source": [
    "name = IRuby.input 'Enter your name:'"
   ]
  },
  {
   "cell_type": "code",
   "execution_count": null,
   "metadata": {},
   "outputs": [],
   "source": [
    "puts \"Hello, #{name}!\""
   ]
  },
  {
   "cell_type": "markdown",
   "metadata": {},
   "source": [
    "## Inline form"
   ]
  },
  {
   "cell_type": "code",
   "execution_count": null,
   "metadata": {},
   "outputs": [],
   "source": [
    "data = IRuby.form do\n",
    "  input :name, label: 'Name:'\n",
    "  select :animal, 'cat', 'dog', 'bird', label: 'Animal:'\n",
    "  button\n",
    "end"
   ]
  },
  {
   "cell_type": "code",
   "execution_count": null,
   "metadata": {},
   "outputs": [],
   "source": [
    "puts \"#{data[:name]} has a pet #{data[:animal]}\""
   ]
  },
  {
   "cell_type": "markdown",
   "metadata": {},
   "source": [
    "## Pop-up form"
   ]
  },
  {
   "cell_type": "code",
   "execution_count": null,
   "metadata": {},
   "outputs": [],
   "source": [
    "data = IRuby.popup do\n",
    "  input :name, label: 'Name:'\n",
    "  select :animal, 'cat', 'dog', 'bird', label: 'Animal:'\n",
    "  button\n",
    "end"
   ]
  },
  {
   "cell_type": "code",
   "execution_count": null,
   "metadata": {},
   "outputs": [],
   "source": [
    "puts \"#{data[:name]} has a pet #{data[:animal]}\""
   ]
  }
 ],
 "metadata": {
  "kernelspec": {
   "display_name": "Ruby 2.5.1",
   "language": "ruby",
   "name": "ruby"
  },
  "language_info": {
   "file_extension": ".rb",
   "mimetype": "application/x-ruby",
   "name": "ruby",
   "version": "2.5.1"
  }
 },
 "nbformat": 4,
 "nbformat_minor": 2
}
