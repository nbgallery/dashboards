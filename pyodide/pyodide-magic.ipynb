{
 "cells": [
  {
   "cell_type": "markdown",
   "metadata": {},
   "source": [
    "## Syntactic sugar\n",
    "\n",
    "Define a magic to run code via pyodide instead of the python kernel.  Imagine this is wrapped up in a python module.\n",
    "\n",
    "The first time the magic is used, it does some initialization steps:\n",
    " * Load pyodide.js\n",
    " * Create a rendering function based on what Iodide uses\n",
    " * Add a workaround for matplotlib charts\n",
    " \n",
    "Then each time the magic is used to execute code, it does the following:\n",
    " * Creates an IPython HTML output as a placeholder\n",
    " * Runs the python code in pyodide\n",
    " * Renders whatever value was returned in the placeholder HTML"
   ]
  },
  {
   "cell_type": "code",
   "execution_count": null,
   "metadata": {
    "ExecuteTime": {
     "end_time": "2020-08-25T22:11:40.856341Z",
     "start_time": "2020-08-25T22:11:40.844447Z"
    }
   },
   "outputs": [],
   "source": [
    "from IPython.core.magic import register_line_magic, register_cell_magic\n",
    "from IPython.display import display, Javascript, HTML\n",
    "import os\n",
    "\n",
    "_pyodide_count = 0\n",
    "\n",
    "@register_cell_magic\n",
    "def pyodide(line, cell):\n",
    "    global _pyodide_count\n",
    "    _pyodide_count += 1\n",
    "    code = ''\n",
    "    \n",
    "    # The first time we run any pyodide code, we need to initialize pyodide itself\n",
    "    if _pyodide_count == 1:\n",
    "        # First, load pyodide itself\n",
    "        # Async script load based on:\n",
    "        # https://medium.com/@vschroeder/javascript-how-to-execute-code-from-an-asynchronously-loaded-script-although-when-it-is-not-bebcbd6da5ea\n",
    "        # See also: \n",
    "        # https://stackoverflow.com/questions/950087/how-do-i-include-a-javascript-file-in-another-javascript-file\n",
    "        pyodide_url = os.getenv('PYODIDE_URL', 'https://pyodide-cdn2.iodide.io/v0.15.0/full/pyodide.js')\n",
    "        code += (\n",
    "            f\"window.pyodideLoaded = new Promise((resolve, reject) => {{\\n\"\n",
    "            f\"    var script = document.createElement('script');\\n\"\n",
    "            f\"    script.src = '{pyodide_url}';\\n\"\n",
    "            f\"    script.async = true;\\n\"\n",
    "            f\"    script.onload = () => {{\\n\"\n",
    "            f\"        languagePluginLoader.then(() => {{\\n\"\n",
    "            f\"            resolve();\\n\"\n",
    "            f\"        }});\\n\"\n",
    "            f\"    }};\\n\"\n",
    "            f\"    document.head.appendChild(script);\\n\"\n",
    "            f\"}});\\n\"\n",
    "        )\n",
    "        \n",
    "        # Next, add a function for rendering pyodide outputs\n",
    "        code += (\n",
    "            f\"window.pyodideRender = (value) => {{\\n\"\n",
    "            f\"    if (typeof value === 'function' && pyodide._module.PyProxy.isPyProxy(value)) {{\\n\"\n",
    "            f\"        let div = document.createElement('div');\\n\"\n",
    "            f\"        div.className = 'rendered_html';\\n\"\n",
    "            f\"        var element;\\n\"\n",
    "            f\"        if (value._repr_html_ !== undefined) {{\\n\"\n",
    "            f\"            let result = value._repr_html_();\\n\"\n",
    "            f\"            if (typeof result === 'string') {{\\n\"\n",
    "            f\"                div.appendChild(new DOMParser()\\n\"\n",
    "            f\"                                    .parseFromString(result, 'text/html')\\n\"\n",
    "            f\"                                    .body.firstChild);\\n\"\n",
    "            f\"                element = div;\\n\"\n",
    "            f\"            }} else {{\\n\"\n",
    "            f\"                element = result;\\n\"\n",
    "            f\"            }}\\n\"\n",
    "            f\"        }} else {{\\n\"\n",
    "            f\"            let pre = document.createElement('pre');\\n\"\n",
    "            f\"            pre.textContent = value.toString();\\n\"\n",
    "            f\"            div.appendChild(pre);\\n\"\n",
    "            f\"            element = div;\\n\"\n",
    "            f\"        }}\\n\"\n",
    "            f\"        return element.innerHTML;\\n\"\n",
    "            f\"    }} else {{\\n\"\n",
    "            f\"        return '<pre>' + JSON.stringify(value) + '</pre>';\\n\"\n",
    "            f\"    }}\\n\"\n",
    "            f\"}};\\n\"\n",
    "        )\n",
    "        \n",
    "        # Next, add a workaround for matplotlib.  If you add an html div to your output\n",
    "        # somewhere, matplotlib's plt.show() will be able to add output to it.\n",
    "        # Workaround from:\n",
    "        # https://github.com/iodide-project/pyodide/issues/479\n",
    "        code += (\n",
    "            f\"window.pyodideLoaded.then(() => {{\\n\"\n",
    "            f\"    window.iodide = {{\\n\"\n",
    "            f\"        output: {{\\n\"\n",
    "            f\"            // Create a new element with tagName and add it to an element with id 'root'\\n\"\n",
    "            f\"            element: (tagName) => {{\\n\"\n",
    "            f\"                let elem = document.createElement(tagName);\\n\"\n",
    "            f\"                document.querySelector('#matplotlib').appendChild(elem);\\n\"\n",
    "            f\"                return elem;\\n\"\n",
    "            f\"            }}\\n\"\n",
    "            f\"        }},\\n\"\n",
    "            f\"        // Avoid error while loading pyodide.js if this workaround is done too soon\\n\"\n",
    "            f\"        addOutputRenderer: (opts) => {{}}\\n\"\n",
    "            f\"    }};\\n\"\n",
    "            f\"}});\\n\"\n",
    "        )\n",
    "    \n",
    "    # Placeholder div for output\n",
    "    div = f\"output{_pyodide_count}\"\n",
    "    display(HTML(f\"<div id='{div}'></div>\"))    \n",
    "\n",
    "    # Run the code async then replace placeholder if there's non-null output.\n",
    "    # Note that with runPythonAsync (unlike runPython), packages will be automatically\n",
    "    # loaded when first imported.\n",
    "    # PyProxy rendering code from Iodide taken from the bottom of pyodide.js.\n",
    "    code += (\n",
    "        f\"window.pyodideLoaded.then(() => {{\\n\"\n",
    "        f\"    var promise = pyodide.runPythonAsync(`\\n{cell}\\n`, () => {{}});\\n\"\n",
    "        f\"    promise.then((value) => {{\\n\"\n",
    "        f\"        if (value == null) {{\\n\"\n",
    "        f\"            return;\\n\"\n",
    "        f\"        }} else {{\\n\"\n",
    "        f\"            document.getElementById('{div}').innerHTML = window.pyodideRender(value);\\n\"\n",
    "        f\"        }}\\n\"\n",
    "        f\"    }});\\n\"\n",
    "        f\"}});\\n\"\n",
    "    )\n",
    "\n",
    "    display(Javascript(code))\n",
    "\n"
   ]
  },
  {
   "cell_type": "markdown",
   "metadata": {},
   "source": [
    "## Plain python\n",
    "\n",
    "Print statements don't show up.  Use `js.console.log` to print to console."
   ]
  },
  {
   "cell_type": "code",
   "execution_count": null,
   "metadata": {
    "ExecuteTime": {
     "end_time": "2020-08-25T22:13:34.725136Z",
     "start_time": "2020-08-25T22:13:34.690898Z"
    },
    "scrolled": false
   },
   "outputs": [],
   "source": [
    "%%pyodide\n",
    "\n",
    "from js import console\n",
    "console.log('hello world')\n",
    "a = [1, 2, 3, 4, 5]\n",
    "len(a)"
   ]
  },
  {
   "cell_type": "code",
   "execution_count": null,
   "metadata": {
    "ExecuteTime": {
     "end_time": "2020-08-25T22:14:43.406410Z",
     "start_time": "2020-08-25T22:14:43.376818Z"
    }
   },
   "outputs": [],
   "source": [
    "%%pyodide\n",
    "\n",
    "d = {'number': 42, 'string': 'hello'}\n",
    "d"
   ]
  },
  {
   "cell_type": "markdown",
   "metadata": {},
   "source": [
    "## Pandas\n",
    "\n",
    "Note you don't have to install pandas; pyodide will install it on the fly you import it!  I'm guessing that only works for [packages they've pre-compiled](https://github.com/iodide-project/pyodide/tree/master/packages)."
   ]
  },
  {
   "cell_type": "code",
   "execution_count": null,
   "metadata": {
    "ExecuteTime": {
     "end_time": "2020-08-25T22:17:47.690124Z",
     "start_time": "2020-08-25T22:17:47.672816Z"
    }
   },
   "outputs": [],
   "source": [
    "%%pyodide\n",
    "\n",
    "import pandas as pd\n",
    "df = pd.DataFrame({'AAA': [4, 5, 6, 7],\n",
    "   'BBB': [10, 20, 30, 40],\n",
    "   'CCC': [100, 50, -30, -50]})\n",
    "df"
   ]
  },
  {
   "cell_type": "markdown",
   "metadata": {},
   "source": [
    "## Matplotlib and widgets"
   ]
  },
  {
   "cell_type": "markdown",
   "metadata": {},
   "source": [
    "### UI Layout\n",
    "\n",
    "We have to do this in HTML since ipywidgets would rely on the Jupyter kernel. \n",
    "\n",
    "Matplotlib's `plt.show()` doesn't return anything so we have to give it somewhere to go.  We put in an empty `matplotlib` div as a placeholder for the chart; note this name matches the `#matplotlib` in the workaround we set up above."
   ]
  },
  {
   "cell_type": "code",
   "execution_count": null,
   "metadata": {
    "ExecuteTime": {
     "end_time": "2020-08-25T22:11:11.455677Z",
     "start_time": "2020-08-25T22:11:11.437712Z"
    }
   },
   "outputs": [],
   "source": [
    "%%HTML\n",
    "\n",
    "<div id='middle'>\n",
    "    <label for=\"volume\">σ<sub>1</sub></label>\n",
    "    <input id=\"sig1\" type=\"range\" name=\"sig\" min=\"1\" max=\"1000\">\n",
    "    <label for=\"volume\">σ<sub>2</sub></label>\n",
    "    <input id=\"sig2\" type=\"range\" name=\"sig\" min=\"1\" max=\"1000\">\n",
    "    <label for=\"volume\">σ<sub>3</sub></label>\n",
    "    <input id=\"sig3\" type=\"range\" name=\"sig\" min=\"1\" max=\"1000\">\n",
    "</div>\n",
    "\n",
    "<div id='matplotlib'>\n",
    "</div>\n"
   ]
  },
  {
   "cell_type": "markdown",
   "metadata": {},
   "source": [
    "### Draw the graphs\n",
    "\n",
    "Note they don't appear in the output area of this cell, they appear in the UI we created above.  Kinda like using the ipywidgets `Output` widget.\n",
    "\n",
    "This just the initial graph; the sliders don't work yet.\n",
    "\n",
    "Problem: if you run this more than once, you'll get multiple chart. This is because the matplotlib workaround uses `appendChild` rather than replacing the div contents.  But you might want to show multiple (different) charts, so appending seems like the right answer (?)."
   ]
  },
  {
   "cell_type": "code",
   "execution_count": null,
   "metadata": {
    "ExecuteTime": {
     "end_time": "2020-08-25T21:24:41.653576Z",
     "start_time": "2020-08-25T21:24:41.624896Z"
    },
    "scrolled": false
   },
   "outputs": [],
   "source": [
    "%%pyodide\n",
    "\n",
    "SIG1 = .75\n",
    "SIG2 = 1.0\n",
    "SIG3 = 1.5\n",
    "\n",
    "import numpy as np\n",
    "import matplotlib.pyplot as plt\n",
    "\n",
    "data1 = np.log(np.random.lognormal(1, SIG1, 10000))\n",
    "data2 = np.log(np.random.lognormal(1, SIG2, 10000))\n",
    "data3 = np.log(np.random.lognormal(1, SIG3, 10000))\n",
    "bins = list(np.linspace(np.log(0.01), np.log(100), 100)) + [np.inf]\n",
    "\n",
    "plt.figure()\n",
    "plt.title('Log-normal distribution with log bucketing')\n",
    "plt.hist(data1, bins=bins, histtype='step', label=f\"σ={SIG1}\")\n",
    "plt.hist(data2, bins=bins, histtype='step', label=f\"σ={SIG2}\")\n",
    "plt.hist(data3, bins=bins, histtype='step', label=f\"σ={SIG3}\")\n",
    "plt.legend()\n",
    "plt.show()"
   ]
  },
  {
   "cell_type": "markdown",
   "metadata": {},
   "source": [
    "### Connecting the widgets\n",
    "\n",
    "Now the sliders will change the graph."
   ]
  },
  {
   "cell_type": "code",
   "execution_count": null,
   "metadata": {
    "ExecuteTime": {
     "end_time": "2020-08-25T21:14:06.472465Z",
     "start_time": "2020-08-25T21:14:06.456262Z"
    }
   },
   "outputs": [],
   "source": [
    "%%pyodide\n",
    "\n",
    "from js import document\n",
    "\n",
    "def up1(evt):\n",
    "    global data1, data2, data3, SIG1\n",
    "    SIG1 = int(evt.target.value) / 200.\n",
    "    data1 = np.log(np.random.lognormal(1, SIG1, 10000))\n",
    "    plt.cla()\n",
    "    plt.title('Log-normal distribution with log bucketing')\n",
    "    plt.hist(data1, bins=bins, histtype='step', label=f\"σ={SIG1}\")\n",
    "    plt.hist(data2, bins=bins, histtype='step', label=f\"σ={SIG2}\")\n",
    "    plt.hist(data3, bins=bins, histtype='step', label=f\"σ={SIG3}\")\n",
    "    plt.legend()\n",
    "    plt.show()\n",
    "\n",
    "def up2(evt):\n",
    "    global data1, data2, data3, SIG2\n",
    "    SIG2 = int(evt.target.value) / 200.\n",
    "    data2 = np.log(np.random.lognormal(1, SIG2, 10000))\n",
    "    plt.cla()\n",
    "    plt.title('Log-normal distribution with log bucketing')\n",
    "    plt.hist(data1, bins=bins, histtype='step', label=f\"σ={SIG1}\")\n",
    "    plt.hist(data2, bins=bins, histtype='step', label=f\"σ={SIG2}\")\n",
    "    plt.hist(data3, bins=bins, histtype='step', label=f\"σ={SIG3}\")\n",
    "    plt.legend()\n",
    "    plt.legend()\n",
    "    plt.show()\n",
    "\n",
    "def up3(evt):\n",
    "    global data1, data2, data3, SIG3\n",
    "    SIG3 = int(evt.target.value) / 200.\n",
    "    data3 = np.log(np.random.lognormal(1, SIG3, 10000))\n",
    "    plt.cla()\n",
    "    plt.title('Log-normal distribution with log bucketing')\n",
    "    plt.hist(data1, bins=bins, histtype='step', label=f\"σ={SIG1}\")\n",
    "    plt.hist(data2, bins=bins, histtype='step', label=f\"σ={SIG2}\")\n",
    "    plt.hist(data3, bins=bins, histtype='step', label=f\"σ={SIG3}\")\n",
    "    plt.legend()\n",
    "    plt.show() \n",
    "    \n",
    "document.getElementById('sig1').addEventListener('input', up1)\n",
    "document.getElementById('sig2').addEventListener('input', up2)\n",
    "document.getElementById('sig3').addEventListener('input', up3)"
   ]
  },
  {
   "cell_type": "markdown",
   "metadata": {},
   "source": [
    "## Convert to HTML\n",
    "\n",
    "Once you run all the cells (don't clear the cell outputs!), you can File -> Download as -> HTML and you have a static version - and the javascript will run your python code *live* when you view the HTML file (watch the console to see things happening).  For some reason matplotlib is erroring out (\"no module\" error even though pyodide claims to have loaded it) in the HTML version but not the Jupyter version.  No idea why."
   ]
  },
  {
   "cell_type": "code",
   "execution_count": null,
   "metadata": {},
   "outputs": [],
   "source": []
  }
 ],
 "metadata": {
  "kernelspec": {
   "display_name": "Python 3",
   "language": "python",
   "name": "python3"
  },
  "language_info": {
   "codemirror_mode": {
    "name": "ipython",
    "version": 3
   },
   "file_extension": ".py",
   "mimetype": "text/x-python",
   "name": "python",
   "nbconvert_exporter": "python",
   "pygments_lexer": "ipython3",
   "version": "3.7.1"
  },
  "toc": {
   "base_numbering": 1,
   "nav_menu": {},
   "number_sections": true,
   "sideBar": true,
   "skip_h1_title": false,
   "title_cell": "Table of Contents",
   "title_sidebar": "Contents",
   "toc_cell": false,
   "toc_position": {},
   "toc_section_display": true,
   "toc_window_display": false
  }
 },
 "nbformat": 4,
 "nbformat_minor": 4
}
