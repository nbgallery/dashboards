{
 "cells": [
  {
   "cell_type": "markdown",
   "metadata": {},
   "source": [
    "# Text output from callbacks"
   ]
  },
  {
   "cell_type": "code",
   "execution_count": null,
   "metadata": {},
   "outputs": [],
   "source": [
    "import ipywidgets"
   ]
  },
  {
   "cell_type": "markdown",
   "metadata": {},
   "source": [
    "## Plain `print`\n",
    "\n",
    "(doesn't work)"
   ]
  },
  {
   "cell_type": "code",
   "execution_count": null,
   "metadata": {
    "scrolled": true
   },
   "outputs": [],
   "source": [
    "def callback1(w):\n",
    "    print('callback1')\n",
    "\n",
    "button1 = ipywidgets.Button(description='Run')\n",
    "button1.on_click(callback1)\n",
    "button1"
   ]
  },
  {
   "cell_type": "markdown",
   "metadata": {},
   "source": [
    "## Output widget"
   ]
  },
  {
   "cell_type": "code",
   "execution_count": null,
   "metadata": {},
   "outputs": [],
   "source": [
    "def callback2(w):\n",
    "    with output2:\n",
    "        print('callback2')\n",
    "\n",
    "output2 = ipywidgets.Output()\n",
    "button2 = ipywidgets.Button(description='Run')\n",
    "button2.on_click(callback2)\n",
    "ipywidgets.VBox(children=[button2, output2])"
   ]
  },
  {
   "cell_type": "markdown",
   "metadata": {},
   "source": [
    "## HTML widget"
   ]
  },
  {
   "cell_type": "code",
   "execution_count": null,
   "metadata": {},
   "outputs": [],
   "source": [
    "def callback3(w):\n",
    "    html3.value = 'callback3'\n",
    "\n",
    "html3 = ipywidgets.HTML()\n",
    "button3 = ipywidgets.Button(description='Run')\n",
    "button3.on_click(callback3)\n",
    "ipywidgets.VBox(children=[button3, html3])"
   ]
  },
  {
   "cell_type": "code",
   "execution_count": null,
   "metadata": {},
   "outputs": [],
   "source": []
  }
 ],
 "metadata": {
  "kernelspec": {
   "display_name": "Python 3",
   "language": "python",
   "name": "python3"
  },
  "language_info": {
   "codemirror_mode": {
    "name": "ipython",
    "version": 3
   },
   "file_extension": ".py",
   "mimetype": "text/x-python",
   "name": "python",
   "nbconvert_exporter": "python",
   "pygments_lexer": "ipython3",
   "version": "3.7.3"
  }
 },
 "nbformat": 4,
 "nbformat_minor": 2
}
