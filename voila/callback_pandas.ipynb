{
 "cells": [
  {
   "cell_type": "markdown",
   "metadata": {},
   "source": [
    "# Pandas dataframe output from callbacks"
   ]
  },
  {
   "cell_type": "code",
   "execution_count": null,
   "metadata": {},
   "outputs": [],
   "source": [
    "import ipywidgets\n",
    "import pandas as pd\n",
    "from IPython.display import display, clear_output"
   ]
  },
  {
   "cell_type": "code",
   "execution_count": null,
   "metadata": {},
   "outputs": [],
   "source": [
    "data = [['John', 'Mary', 'Bob'], [40, 38, 22], ['London', 'Paris', 'Rome']]\n",
    "df = pd.DataFrame(data, columns=['name', 'age', 'location'])"
   ]
  },
  {
   "cell_type": "markdown",
   "metadata": {},
   "source": [
    "## IPython.display\n",
    "\n",
    "Doesn't work in voila.  Also displays multiple times if you keep pressing the button, but `clear_output` will remove the widgets too."
   ]
  },
  {
   "cell_type": "code",
   "execution_count": null,
   "metadata": {
    "scrolled": false
   },
   "outputs": [],
   "source": [
    "def callback1(w):\n",
    "    display(df)\n",
    "\n",
    "button1 = ipywidgets.Button(description='Run')\n",
    "button1.on_click(callback1)\n",
    "button1"
   ]
  },
  {
   "cell_type": "markdown",
   "metadata": {},
   "source": [
    "## HTML widget\n",
    "\n",
    "Works but without the nice styling of IPython.display."
   ]
  },
  {
   "cell_type": "code",
   "execution_count": null,
   "metadata": {},
   "outputs": [],
   "source": [
    "def callback2(w):\n",
    "    html2.value = df.to_html()\n",
    "\n",
    "html2 = ipywidgets.HTML()\n",
    "button2 = ipywidgets.Button(description='Run')\n",
    "button2.on_click(callback2)\n",
    "ipywidgets.VBox(children=[button2, html2])"
   ]
  },
  {
   "cell_type": "markdown",
   "metadata": {},
   "source": [
    "## Output widget + Ipython.display\n",
    "\n",
    "Works nicely but looks like the styling isn't quite the same in voila."
   ]
  },
  {
   "cell_type": "code",
   "execution_count": null,
   "metadata": {},
   "outputs": [],
   "source": [
    "def callback3(w):\n",
    "    with output3:\n",
    "        clear_output()\n",
    "        display(df)\n",
    "\n",
    "output3 = ipywidgets.Output()\n",
    "button3 = ipywidgets.Button(description='Run')\n",
    "button3.on_click(callback3)\n",
    "ipywidgets.VBox(children=[button3, output3])"
   ]
  },
  {
   "cell_type": "code",
   "execution_count": null,
   "metadata": {},
   "outputs": [],
   "source": []
  }
 ],
 "metadata": {
  "kernelspec": {
   "display_name": "Python 3",
   "language": "python",
   "name": "python3"
  },
  "language_info": {
   "codemirror_mode": {
    "name": "ipython",
    "version": 3
   },
   "file_extension": ".py",
   "mimetype": "text/x-python",
   "name": "python",
   "nbconvert_exporter": "python",
   "pygments_lexer": "ipython3",
   "version": "3.7.3"
  }
 },
 "nbformat": 4,
 "nbformat_minor": 2
}
