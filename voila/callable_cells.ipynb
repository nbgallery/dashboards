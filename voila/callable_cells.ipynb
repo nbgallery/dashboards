{
 "cells": [
  {
   "cell_type": "markdown",
   "metadata": {},
   "source": [
    "# Callable cells\n",
    "\n",
    "Cleaner version of the magics in [magic_callbacks.ipynb](magic_callbacks.ipynb) in this directory."
   ]
  },
  {
   "cell_type": "code",
   "execution_count": null,
   "metadata": {},
   "outputs": [],
   "source": [
    "from IPython.core.magic import cell_magic, Magics, magics_class\n",
    "\n",
    "@magics_class\n",
    "class CallableCells(Magics):\n",
    "    registry = {}\n",
    "    \n",
    "    @cell_magic\n",
    "    def callable(self, line, cell):\n",
    "        CallableCells.registry[line] = (cell, self.shell)\n",
    "        self.shell.ex(cell)\n",
    "        \n",
    "    @staticmethod\n",
    "    def run_cells(*names):\n",
    "        for name in names:\n",
    "            cell, shell = CallableCells.registry[name]\n",
    "            shell.ex(cell)\n",
    "            \n",
    "    @staticmethod\n",
    "    def callback(output, *names):\n",
    "        def the_callback(w):\n",
    "            with output:\n",
    "                CallableCells.run_cells(*names)\n",
    "        return the_callback\n",
    "\n",
    "# Register\n",
    "from IPython import get_ipython\n",
    "ip = get_ipython()\n",
    "ip.register_magics(CallableCells)"
   ]
  },
  {
   "cell_type": "code",
   "execution_count": null,
   "metadata": {},
   "outputs": [],
   "source": [
    "x = 0"
   ]
  },
  {
   "cell_type": "code",
   "execution_count": null,
   "metadata": {},
   "outputs": [],
   "source": [
    "%%callable inc\n",
    "\n",
    "x += 1\n",
    "print(f\"inc x={x}\")"
   ]
  },
  {
   "cell_type": "code",
   "execution_count": null,
   "metadata": {},
   "outputs": [],
   "source": [
    "%%callable double\n",
    "\n",
    "x *= 2\n",
    "print(f\"double x={x}\")"
   ]
  },
  {
   "cell_type": "code",
   "execution_count": null,
   "metadata": {},
   "outputs": [],
   "source": [
    "CallableCells.run_cells('double', 'inc', 'inc')\n",
    "CallableCells.run_cells('inc')"
   ]
  },
  {
   "cell_type": "code",
   "execution_count": null,
   "metadata": {},
   "outputs": [],
   "source": [
    "import ipywidgets as widgets\n",
    "text = widgets.IntText()\n",
    "output = widgets.Output()\n",
    "button_reset = widgets.Button(description='Set x to...')\n",
    "button_reset.on_click(CallableCells.callback(output, 'setx'))\n",
    "button_double = widgets.Button(description='Double x')\n",
    "button_double.on_click(CallableCells.callback(output, 'double'))\n",
    "button_inc = widgets.Button(description='Inc x')\n",
    "button_inc.on_click(CallableCells.callback(output, 'inc'))\n",
    "widgets.VBox([widgets.HBox([button_reset, text]), widgets.HBox([button_double, button_inc]), output])"
   ]
  },
  {
   "cell_type": "code",
   "execution_count": null,
   "metadata": {},
   "outputs": [],
   "source": [
    "%%callable setx\n",
    "x = text.value\n",
    "print(f\"x set to {x}\")"
   ]
  },
  {
   "cell_type": "code",
   "execution_count": null,
   "metadata": {},
   "outputs": [],
   "source": []
  }
 ],
 "metadata": {
  "kernelspec": {
   "display_name": "Python 3",
   "language": "python",
   "name": "python3"
  },
  "language_info": {
   "codemirror_mode": {
    "name": "ipython",
    "version": 3
   },
   "file_extension": ".py",
   "mimetype": "text/x-python",
   "name": "python",
   "nbconvert_exporter": "python",
   "pygments_lexer": "ipython3",
   "version": "3.7.3"
  }
 },
 "nbformat": 4,
 "nbformat_minor": 2
}
