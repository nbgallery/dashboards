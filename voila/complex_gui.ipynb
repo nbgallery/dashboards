{
 "cells": [
  {
   "cell_type": "markdown",
   "metadata": {},
   "source": [
    "# Complex widget GUI\n",
    "\n",
    "This is representative of some of the more complex interfaces we've seen people build with widgets.  We've seen a few minor style/layout differences but otherwise it works fine in voila!"
   ]
  },
  {
   "cell_type": "code",
   "execution_count": null,
   "metadata": {},
   "outputs": [],
   "source": [
    "from ipywidgets import widgets, Layout\n",
    "from IPython.display import clear_output"
   ]
  },
  {
   "cell_type": "code",
   "execution_count": null,
   "metadata": {},
   "outputs": [],
   "source": [
    "def callback(w):\n",
    "    with output:\n",
    "        clear_output()\n",
    "        print(location.value, date.value)\n",
    "        print(name.value, age.value)\n",
    "        print(opt1.value, opt2.value, opt3.value, description.value)\n",
    "        print(color.value, animal.value)\n",
    "        \n",
    "# Inner tab 1a\n",
    "location = widgets.Text(value='London', description='Location', layout=Layout(width='75%'))\n",
    "date = widgets.DatePicker(description='Date')\n",
    "tab1a = widgets.VBox(children=[location, date])\n",
    "\n",
    "# Inner tab 1b\n",
    "name = widgets.Text(value='John', description='Name')\n",
    "age = widgets.IntSlider(value=5, min=1, max=100, description='Age')\n",
    "tab1b = widgets.VBox(children=[name, age])\n",
    "\n",
    "# Inner tab 2a\n",
    "opt1 = widgets.Checkbox(value=False, description='opt1')\n",
    "opt2 = widgets.Checkbox(value=False, description='opt2')\n",
    "opt3 = widgets.Checkbox(value=True, description='opt3')\n",
    "options = widgets.HBox(children=[opt1, opt2, opt3])\n",
    "description = widgets.Textarea(description='description', rows=3)\n",
    "tab2a = widgets.VBox(children=[options, description])\n",
    "\n",
    "# Inner tab 2b\n",
    "color = widgets.ColorPicker()\n",
    "animal = widgets.Dropdown(options=['cat', 'dog', 'bird'])\n",
    "tab2b = widgets.VBox(children=[color, animal])\n",
    "\n",
    "# Outer tabs\n",
    "tab1 = widgets.Tab(children=[tab1a, tab1b])\n",
    "tab1.set_title(0, 'Tab 1a')\n",
    "tab1.set_title(1, 'Tab 1b')\n",
    "tab2 = widgets.Tab(children=[tab2a, tab2b])\n",
    "tab2.set_title(0, 'Tab 2a')\n",
    "tab2.set_title(1, 'Tab 2b')\n",
    "\n",
    "# Final GUI\n",
    "output = widgets.Output()\n",
    "title = widgets.HTML(value=\"<h2 style='text-align:center'>Widget GUI</h2>\")\n",
    "tabs = widgets.Tab(children=[tab1, tab2])\n",
    "tabs.set_title(0, 'Tab 1')\n",
    "tabs.set_title(1, 'Tab 2')\n",
    "submit = widgets.Button(description='Submit')\n",
    "submit.on_click(callback)\n",
    "gui = widgets.VBox(children=[title, tabs, submit, output])\n",
    "gui"
   ]
  },
  {
   "cell_type": "code",
   "execution_count": null,
   "metadata": {},
   "outputs": [],
   "source": []
  }
 ],
 "metadata": {
  "kernelspec": {
   "display_name": "Python 3",
   "language": "python",
   "name": "python3"
  },
  "language_info": {
   "codemirror_mode": {
    "name": "ipython",
    "version": 3
   },
   "file_extension": ".py",
   "mimetype": "text/x-python",
   "name": "python",
   "nbconvert_exporter": "python",
   "pygments_lexer": "ipython3",
   "version": "3.7.3"
  }
 },
 "nbformat": 4,
 "nbformat_minor": 2
}
