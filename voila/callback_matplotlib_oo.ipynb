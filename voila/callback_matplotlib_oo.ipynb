{
 "cells": [
  {
   "cell_type": "markdown",
   "metadata": {},
   "source": [
    "# Matplotlib OO API from callbacks\n",
    "\n",
    "Based on [this example](https://matplotlib.org/gallery/api/agg_oo_sgskip.html).  Some notes:\n",
    "\n",
    "  * If you don't use the `pyplot` API, you have to manually attach a canvas.  Even then, `fig.show()` still doesn't work because no manager is set.\n",
    "  * Toggling the image widget's visibility doesn't currently work in voila, so you'll see a broken image icon.  You could fix that by starting with a blank image.\n",
    "  * If you use VBox instead of HBox, the image gets stretched horizontally."
   ]
  },
  {
   "cell_type": "code",
   "execution_count": null,
   "metadata": {},
   "outputs": [],
   "source": [
    "import ipywidgets\n",
    "from matplotlib.backends.backend_agg import FigureCanvasAgg as FigureCanvas\n",
    "from matplotlib.figure import Figure"
   ]
  },
  {
   "cell_type": "code",
   "execution_count": null,
   "metadata": {
    "scrolled": false
   },
   "outputs": [],
   "source": [
    "def callback(w):\n",
    "    fig = Figure()\n",
    "    FigureCanvas(fig)\n",
    "    ax = fig.add_subplot(111)\n",
    "    ax.plot([1, 2, 3])\n",
    "    fig.savefig('chart.png')\n",
    "    image.value = open('chart.png', 'rb').read()\n",
    "    image.layout = ipywidgets.Layout(visibility='visible')\n",
    "    \n",
    "button = ipywidgets.Button(description='Run')\n",
    "button.on_click(callback)\n",
    "image = ipywidgets.Image(layout=ipywidgets.Layout(visibility='hidden'))\n",
    "ipywidgets.HBox(children=[button, image])"
   ]
  },
  {
   "cell_type": "code",
   "execution_count": null,
   "metadata": {},
   "outputs": [],
   "source": []
  }
 ],
 "metadata": {
  "kernelspec": {
   "display_name": "Python 3",
   "language": "python",
   "name": "python3"
  },
  "language_info": {
   "codemirror_mode": {
    "name": "ipython",
    "version": 3
   },
   "file_extension": ".py",
   "mimetype": "text/x-python",
   "name": "python",
   "nbconvert_exporter": "python",
   "pygments_lexer": "ipython3",
   "version": "3.7.3"
  }
 },
 "nbformat": 4,
 "nbformat_minor": 2
}
