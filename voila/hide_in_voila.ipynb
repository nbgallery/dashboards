{
 "cells": [
  {
   "cell_type": "markdown",
   "metadata": {},
   "source": [
    "# Hiding output in voila\n",
    "\n",
    "You may have code that you need to execute, but you want the output hidden in voila -- maybe you need to see some values during development/debug, but you don't want the dashboard users to see them.  Here are a couple snippets that help with that in voila 0.2 and beyond."
   ]
  },
  {
   "cell_type": "markdown",
   "metadata": {},
   "source": [
    "To hide just the final value of a cell:"
   ]
  },
  {
   "cell_type": "code",
   "execution_count": null,
   "metadata": {
    "ExecuteTime": {
     "end_time": "2020-09-22T20:15:43.644836Z",
     "start_time": "2020-09-22T20:15:43.629248Z"
    }
   },
   "outputs": [],
   "source": [
    "import os\n",
    "import ipywidgets as widgets\n",
    "from IPython.display import display, HTML\n",
    "\n",
    "def hide_in_voila(var):\n",
    "    if os.getenv('SERVER_SOFTWARE', '').startswith('voila'):\n",
    "        return None\n",
    "    else:\n",
    "        return var\n",
    "        \n",
    "x = 42\n",
    "hide_in_voila(HTML(f\"<i>x={x}</i>\"))"
   ]
  },
  {
   "cell_type": "markdown",
   "metadata": {},
   "source": [
    "To hide a mix of outputs:"
   ]
  },
  {
   "cell_type": "code",
   "execution_count": null,
   "metadata": {
    "ExecuteTime": {
     "end_time": "2020-09-22T20:15:44.577740Z",
     "start_time": "2020-09-22T20:15:44.478596Z"
    }
   },
   "outputs": [],
   "source": [
    "class HideInVoila(widgets.Output):\n",
    "    def __init__(self, **kwargs):\n",
    "        super(HideInVoila, self).__init__(**kwargs)\n",
    "        in_voila = os.getenv('SERVER_SOFTWARE', '').startswith('voila')\n",
    "        self.layout.visibility = 'hidden' if in_voila else 'visible'\n",
    "        \n",
    "y = 1\n",
    "output = HideInVoila()\n",
    "with output:\n",
    "    display(HTML(\"<b>hello world</b>\"))\n",
    "    y += 10\n",
    "    print(y)\n",
    "output"
   ]
  },
  {
   "cell_type": "code",
   "execution_count": null,
   "metadata": {
    "ExecuteTime": {
     "end_time": "2020-09-22T20:11:23.504900Z",
     "start_time": "2020-09-22T20:11:23.491307Z"
    }
   },
   "outputs": [],
   "source": [
    "print(x, y)"
   ]
  },
  {
   "cell_type": "code",
   "execution_count": null,
   "metadata": {},
   "outputs": [],
   "source": []
  }
 ],
 "metadata": {
  "kernelspec": {
   "display_name": "Python 3",
   "language": "python",
   "name": "python3"
  },
  "language_info": {
   "codemirror_mode": {
    "name": "ipython",
    "version": 3
   },
   "file_extension": ".py",
   "mimetype": "text/x-python",
   "name": "python",
   "nbconvert_exporter": "python",
   "pygments_lexer": "ipython3",
   "version": "3.8.5"
  },
  "toc": {
   "base_numbering": 1,
   "nav_menu": {},
   "number_sections": true,
   "sideBar": true,
   "skip_h1_title": false,
   "title_cell": "Table of Contents",
   "title_sidebar": "Contents",
   "toc_cell": false,
   "toc_position": {},
   "toc_section_display": true,
   "toc_window_display": false
  }
 },
 "nbformat": 4,
 "nbformat_minor": 4
}
