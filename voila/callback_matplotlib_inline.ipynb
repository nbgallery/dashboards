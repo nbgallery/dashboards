{
 "cells": [
  {
   "cell_type": "markdown",
   "metadata": {},
   "source": [
    "# Matplotlib inline charts from callbacks\n",
    "\n",
    "This only works if you use an `Output` widget.  Add `clear_output` calls so you don't get multiple plots if you click the button more than once."
   ]
  },
  {
   "cell_type": "code",
   "execution_count": null,
   "metadata": {},
   "outputs": [],
   "source": [
    "import ipywidgets\n",
    "import matplotlib.pyplot as plt\n",
    "from IPython.display import clear_output"
   ]
  },
  {
   "cell_type": "code",
   "execution_count": null,
   "metadata": {},
   "outputs": [],
   "source": [
    "%matplotlib inline"
   ]
  },
  {
   "cell_type": "markdown",
   "metadata": {},
   "source": [
    "## Context manager version"
   ]
  },
  {
   "cell_type": "code",
   "execution_count": null,
   "metadata": {},
   "outputs": [],
   "source": [
    "def callback1(w):\n",
    "    with output1:\n",
    "        clear_output()\n",
    "        plt.figure()\n",
    "        plt.plot([1, 2], [1, 2])\n",
    "        plt.show()\n",
    "\n",
    "output1 = ipywidgets.Output()\n",
    "button1 = ipywidgets.Button(description='Run')\n",
    "button1.on_click(callback1)\n",
    "ipywidgets.VBox(children=[button1, output1])"
   ]
  },
  {
   "cell_type": "markdown",
   "metadata": {},
   "source": [
    "## Decorator version"
   ]
  },
  {
   "cell_type": "code",
   "execution_count": null,
   "metadata": {},
   "outputs": [],
   "source": [
    "output2 = ipywidgets.Output()\n",
    "\n",
    "@output2.capture()\n",
    "def callback2(w):\n",
    "    clear_output()\n",
    "    plt.figure()\n",
    "    plt.plot([2, 1], [1, 2])\n",
    "    plt.show()\n",
    "\n",
    "button2 = ipywidgets.Button(description='Run')\n",
    "button2.on_click(callback2)\n",
    "ipywidgets.VBox(children=[button2, output2])"
   ]
  },
  {
   "cell_type": "code",
   "execution_count": null,
   "metadata": {},
   "outputs": [],
   "source": []
  }
 ],
 "metadata": {
  "kernelspec": {
   "display_name": "Python 3",
   "language": "python",
   "name": "python3"
  },
  "language_info": {
   "codemirror_mode": {
    "name": "ipython",
    "version": 3
   },
   "file_extension": ".py",
   "mimetype": "text/x-python",
   "name": "python",
   "nbconvert_exporter": "python",
   "pygments_lexer": "ipython3",
   "version": "3.7.3"
  }
 },
 "nbformat": 4,
 "nbformat_minor": 2
}
