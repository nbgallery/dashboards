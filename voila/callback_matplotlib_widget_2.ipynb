{
 "cells": [
  {
   "cell_type": "markdown",
   "metadata": {},
   "source": [
    "# Matplotlib widget from callback\n",
    "\n",
    "With [ipympl](https://github.com/matplotlib/jupyter-matplotlib), the figure's canvas is a widget.  That means you can add it to a layout using boxes, which we do here to put the Run button above the plot.  However, calling `plt.figure()` would normally render the widget immediately, so you end up getting two copies.  To avoid that, toggle interactive mode with `ioff()` and `ion()`."
   ]
  },
  {
   "cell_type": "code",
   "execution_count": null,
   "metadata": {},
   "outputs": [],
   "source": [
    "import ipympl\n",
    "import matplotlib.pyplot as plt\n",
    "import ipywidgets"
   ]
  },
  {
   "cell_type": "code",
   "execution_count": null,
   "metadata": {},
   "outputs": [],
   "source": [
    "%matplotlib widget"
   ]
  },
  {
   "cell_type": "code",
   "execution_count": null,
   "metadata": {},
   "outputs": [],
   "source": [
    "def callback(w):\n",
    "    plt.ion()\n",
    "    plt.plot([2, 1], [1, 2])\n",
    "    \n",
    "plt.ioff()\n",
    "fig = plt.figure()\n",
    "button = ipywidgets.Button(description='Run')\n",
    "button.on_click(callback)\n",
    "ipywidgets.VBox(children=[button, fig.canvas])"
   ]
  },
  {
   "cell_type": "code",
   "execution_count": null,
   "metadata": {},
   "outputs": [],
   "source": []
  }
 ],
 "metadata": {
  "kernelspec": {
   "display_name": "Python 3",
   "language": "python",
   "name": "python3"
  },
  "language_info": {
   "codemirror_mode": {
    "name": "ipython",
    "version": 3
   },
   "file_extension": ".py",
   "mimetype": "text/x-python",
   "name": "python",
   "nbconvert_exporter": "python",
   "pygments_lexer": "ipython3",
   "version": "3.7.3"
  }
 },
 "nbformat": 4,
 "nbformat_minor": 2
}
