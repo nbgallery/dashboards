{
 "cells": [
  {
   "cell_type": "markdown",
   "metadata": {},
   "source": [
    "# ipython_blocking demo\n",
    "\n",
    "Run this notebook with Cell -> Run All.  The `%block` magic will block execution until the input form is submitted.\n",
    "\n",
    "This does not currently work in voila because the blocking causes a cell execution timeout.  See also [voila issue 125](https://github.com/QuantStack/voila/issues/125).\n",
    "\n",
    "[More demo notebooks](https://github.com/kafonek/ipython_blocking/tree/master/demo_notebooks) in the [ipython_blocking github](https://github.com/kafonek/ipython_blocking)."
   ]
  },
  {
   "cell_type": "code",
   "execution_count": null,
   "metadata": {},
   "outputs": [],
   "source": [
    "import ipywidgets\n",
    "import ipython_blocking"
   ]
  },
  {
   "cell_type": "code",
   "execution_count": null,
   "metadata": {},
   "outputs": [],
   "source": [
    "text = ipywidgets.Text(description='Input:')\n",
    "button = ipywidgets.Button(description='Submit', button_style='success')\n",
    "ipywidgets.VBox(children=[text, button])"
   ]
  },
  {
   "cell_type": "code",
   "execution_count": null,
   "metadata": {},
   "outputs": [],
   "source": [
    "%block button"
   ]
  },
  {
   "cell_type": "code",
   "execution_count": null,
   "metadata": {},
   "outputs": [],
   "source": [
    "print(text.value)"
   ]
  }
 ],
 "metadata": {
  "kernelspec": {
   "display_name": "Python 3",
   "language": "python",
   "name": "python3"
  },
  "language_info": {
   "codemirror_mode": {
    "name": "ipython",
    "version": 3
   },
   "file_extension": ".py",
   "mimetype": "text/x-python",
   "name": "python",
   "nbconvert_exporter": "python",
   "pygments_lexer": "ipython3",
   "version": "3.7.3"
  }
 },
 "nbformat": 4,
 "nbformat_minor": 2
}
