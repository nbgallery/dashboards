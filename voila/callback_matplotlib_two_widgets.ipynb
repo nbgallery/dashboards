{
 "cells": [
  {
   "cell_type": "markdown",
   "metadata": {},
   "source": [
    "# Matplotlib two widgets with two callbacks"
   ]
  },
  {
   "cell_type": "code",
   "execution_count": null,
   "metadata": {},
   "outputs": [],
   "source": [
    "import ipympl\n",
    "import matplotlib.pyplot as plt\n",
    "import ipywidgets as widgets"
   ]
  },
  {
   "cell_type": "code",
   "execution_count": null,
   "metadata": {},
   "outputs": [],
   "source": [
    "%matplotlib widget"
   ]
  },
  {
   "cell_type": "code",
   "execution_count": null,
   "metadata": {},
   "outputs": [],
   "source": [
    "def callback1(w):\n",
    "    plt.ion()\n",
    "    ax1.plot([1, 2], [1, 2])\n",
    "\n",
    "def callback2(w):\n",
    "    plt.ion()\n",
    "    ax2.plot([1, 2], [2, 1])\n",
    "    \n",
    "plt.ioff() # prevent double-render\n",
    "\n",
    "fig1, ax1 = plt.subplots()\n",
    "button1 = widgets.Button(description='Run1')\n",
    "button1.on_click(callback1)\n",
    "\n",
    "fig2, ax2 = plt.subplots()\n",
    "button2 = widgets.Button(description='Run2')\n",
    "button2.on_click(callback2)\n",
    "\n",
    "widgets.HBox([widgets.VBox([button1, fig1.canvas]), widgets.VBox([button2, fig2.canvas])])"
   ]
  },
  {
   "cell_type": "code",
   "execution_count": null,
   "metadata": {},
   "outputs": [],
   "source": []
  }
 ],
 "metadata": {
  "kernelspec": {
   "display_name": "Python 3",
   "language": "python",
   "name": "python3"
  },
  "language_info": {
   "codemirror_mode": {
    "name": "ipython",
    "version": 3
   },
   "file_extension": ".py",
   "mimetype": "text/x-python",
   "name": "python",
   "nbconvert_exporter": "python",
   "pygments_lexer": "ipython3",
   "version": "3.7.3"
  }
 },
 "nbformat": 4,
 "nbformat_minor": 2
}
